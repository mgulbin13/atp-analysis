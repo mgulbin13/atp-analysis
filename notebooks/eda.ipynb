{
 "cells": [
  {
   "cell_type": "markdown",
   "id": "7769f8a7",
   "metadata": {},
   "source": [
    "# ATP Tennis 2000-2025 - EDA"
   ]
  },
  {
   "cell_type": "code",
   "execution_count": 1,
   "id": "bcb6caca",
   "metadata": {},
   "outputs": [],
   "source": [
    "# imports\n",
    "import numpy as np\n",
    "import pandas as pd"
   ]
  },
  {
   "cell_type": "code",
   "execution_count": 3,
   "id": "7e622beb",
   "metadata": {},
   "outputs": [],
   "source": [
    "df = pd.read_csv('../data/atp_tennis.csv')"
   ]
  },
  {
   "cell_type": "code",
   "execution_count": 10,
   "id": "67362108",
   "metadata": {},
   "outputs": [
    {
     "name": "stdout",
     "output_type": "stream",
     "text": [
      "<class 'pandas.core.frame.DataFrame'>\n",
      "RangeIndex: 65242 entries, 0 to 65241\n",
      "Data columns (total 17 columns):\n",
      " #   Column      Non-Null Count  Dtype  \n",
      "---  ------      --------------  -----  \n",
      " 0   Tournament  65242 non-null  object \n",
      " 1   Date        65242 non-null  object \n",
      " 2   Series      65242 non-null  object \n",
      " 3   Court       65242 non-null  object \n",
      " 4   Surface     65242 non-null  object \n",
      " 5   Round       65242 non-null  object \n",
      " 6   Best of     65242 non-null  int64  \n",
      " 7   Player_1    65242 non-null  object \n",
      " 8   Player_2    65242 non-null  object \n",
      " 9   Winner      65242 non-null  object \n",
      " 10  Rank_1      65242 non-null  int64  \n",
      " 11  Rank_2      65242 non-null  int64  \n",
      " 12  Pts_1       65242 non-null  int64  \n",
      " 13  Pts_2       65242 non-null  int64  \n",
      " 14  Odd_1       65242 non-null  float64\n",
      " 15  Odd_2       65242 non-null  float64\n",
      " 16  Score       65242 non-null  object \n",
      "dtypes: float64(2), int64(5), object(10)\n",
      "memory usage: 8.5+ MB\n"
     ]
    }
   ],
   "source": [
    "df.info()"
   ]
  },
  {
   "cell_type": "code",
   "execution_count": 11,
   "id": "ee73d85a",
   "metadata": {},
   "outputs": [
    {
     "data": {
      "text/plain": [
       "Tournament\n",
       "Australian Open                3155\n",
       "French Open                    3052\n",
       "US Open                        3002\n",
       "Wimbledon                      2939\n",
       "BNP Paribas Open               1463\n",
       "                               ... \n",
       "Forte Village Sardegna Open      25\n",
       "Zhuhai Open                      25\n",
       "Hangzhou Open                    25\n",
       "Gijon Open                       24\n",
       "Korea Open                       24\n",
       "Name: count, Length: 265, dtype: int64"
      ]
     },
     "execution_count": 11,
     "metadata": {},
     "output_type": "execute_result"
    }
   ],
   "source": [
    "df['Tournament'].value_counts()"
   ]
  },
  {
   "cell_type": "code",
   "execution_count": 12,
   "id": "d2bdfff9",
   "metadata": {},
   "outputs": [
    {
     "data": {
      "text/plain": [
       "Series\n",
       "ATP250                17201\n",
       "Grand Slam            12148\n",
       "International         11752\n",
       "Masters 1000           8902\n",
       "ATP500                 6218\n",
       "Masters                5029\n",
       "International Gold     3620\n",
       "Masters Cup             372\n",
       "Name: count, dtype: int64"
      ]
     },
     "execution_count": 12,
     "metadata": {},
     "output_type": "execute_result"
    }
   ],
   "source": [
    "df['Series'].value_counts()"
   ]
  },
  {
   "cell_type": "code",
   "execution_count": 13,
   "id": "043fd513",
   "metadata": {},
   "outputs": [
    {
     "data": {
      "text/plain": [
       "Court\n",
       "Outdoor    53588\n",
       "Indoor     11654\n",
       "Name: count, dtype: int64"
      ]
     },
     "execution_count": 13,
     "metadata": {},
     "output_type": "execute_result"
    }
   ],
   "source": [
    "df['Court'].value_counts()"
   ]
  },
  {
   "cell_type": "code",
   "execution_count": 14,
   "id": "319e4947",
   "metadata": {},
   "outputs": [
    {
     "data": {
      "text/plain": [
       "Surface\n",
       "Hard      35345\n",
       "Clay      21108\n",
       "Grass      7157\n",
       "Carpet     1632\n",
       "Name: count, dtype: int64"
      ]
     },
     "execution_count": 14,
     "metadata": {},
     "output_type": "execute_result"
    }
   ],
   "source": [
    "df['Surface'].value_counts()"
   ]
  },
  {
   "cell_type": "code",
   "execution_count": 15,
   "id": "6ddb6304",
   "metadata": {},
   "outputs": [
    {
     "data": {
      "text/plain": [
       "Round\n",
       "1st Round        29895\n",
       "2nd Round        18186\n",
       "Quarterfinals     6190\n",
       "3rd Round         4603\n",
       "Semifinals        3164\n",
       "The Final         1607\n",
       "4th Round         1183\n",
       "Round Robin        414\n",
       "Name: count, dtype: int64"
      ]
     },
     "execution_count": 15,
     "metadata": {},
     "output_type": "execute_result"
    }
   ],
   "source": [
    "df['Round'].value_counts()"
   ]
  },
  {
   "cell_type": "code",
   "execution_count": 16,
   "id": "5aee28e3",
   "metadata": {},
   "outputs": [
    {
     "data": {
      "text/plain": [
       "Best of\n",
       "3    53018\n",
       "5    12224\n",
       "Name: count, dtype: int64"
      ]
     },
     "execution_count": 16,
     "metadata": {},
     "output_type": "execute_result"
    }
   ],
   "source": [
    "df['Best of'].value_counts()"
   ]
  },
  {
   "cell_type": "code",
   "execution_count": 17,
   "id": "d54bba2d",
   "metadata": {},
   "outputs": [
    {
     "data": {
      "text/plain": [
       "Winner\n",
       "Federer R.     1151\n",
       "Djokovic N.    1032\n",
       "Nadal R.       1007\n",
       "Ferrer D.       677\n",
       "Murray A.       670\n",
       "Berdych T.      575\n",
       "Gasquet R.      574\n",
       "Roddick A.      564\n",
       "Monfils G.      551\n",
       "Wawrinka S.     533\n",
       "Name: count, dtype: int64"
      ]
     },
     "execution_count": 17,
     "metadata": {},
     "output_type": "execute_result"
    }
   ],
   "source": [
    "df['Winner'].value_counts().head(10)"
   ]
  },
  {
   "cell_type": "code",
   "execution_count": null,
   "id": "c3e602a2",
   "metadata": {},
   "outputs": [],
   "source": []
  }
 ],
 "metadata": {
  "kernelspec": {
   "display_name": "test-env",
   "language": "python",
   "name": "python3"
  },
  "language_info": {
   "codemirror_mode": {
    "name": "ipython",
    "version": 3
   },
   "file_extension": ".py",
   "mimetype": "text/x-python",
   "name": "python",
   "nbconvert_exporter": "python",
   "pygments_lexer": "ipython3",
   "version": "3.13.2"
  }
 },
 "nbformat": 4,
 "nbformat_minor": 5
}
